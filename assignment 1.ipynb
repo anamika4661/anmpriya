{
 "cells": [
  {
   "cell_type": "code",
   "execution_count": null,
   "metadata": {},
   "outputs": [],
   "source": [
    "#WAP for result management system (CRUD)"
   ]
  },
  {
   "cell_type": "code",
   "execution_count": 48,
   "metadata": {},
   "outputs": [],
   "source": [
    "found = 0\n",
    "paymod = 'card'\n"
   ]
  },
  {
   "cell_type": "code",
   "execution_count": 68,
   "metadata": {},
   "outputs": [
    {
     "name": "stdout",
     "output_type": "stream",
     "text": [
      "Payment Mode(Cash/Card)cassh\n",
      "Enter 0 for exit or other key for continue :1\n",
      "Enter Particulars :apple\n",
      "Quantity :1\n",
      "Rate :120\n",
      "Enter 0 for exit or other key for continue :0\n",
      "Exited successfully.\n",
      "{1: {'apple': [1, 120, 120]}}\n"
     ]
    }
   ],
   "source": [
    "#Insert\n",
    "#def insertrec():\n",
    "a = {}\n",
    "n = 99       \n",
    "paymod = input(\"Payment Mode(Cash/Card)\")\n",
    "for i in range(1,n,1):\n",
    "    ex = int(input(\"Enter 0 for exit or other key for continue :\"))\n",
    "    if ex == 0:\n",
    "        print(\"Exited successfully.\")\n",
    "        break       \n",
    "    else:\n",
    "        particulars = input(\"Enter Particulars :\")\n",
    "        QTY = int(input(\"Quantity :\"))\n",
    "        rate = int(input(\"Rate :\"))\n",
    "        amount = QTY*rate\n",
    "    a[i] = {particulars :[QTY,rate,amount]}\n",
    "#insertrec()\n",
    "print(a)"
   ]
  },
  {
   "cell_type": "code",
   "execution_count": 73,
   "metadata": {},
   "outputs": [
    {
     "name": "stdout",
     "output_type": "stream",
     "text": [
      "Payment Mode(Cash/Card)cassh\n",
      "Enter 0 for exit or other key for continue :1\n",
      "Enter Particulars :jaam\n",
      "Quantity :2\n",
      "Rate :320\n",
      "Enter 0 for exit or other key for continue :0\n",
      "Exited successfully.\n",
      "{1: {'orange': [1, 120, 120]}, 2: {'kiwi': [1, 20, 20]}, 3: {'jaam': [2, 320, 640]}}\n"
     ]
    }
   ],
   "source": [
    "#for addinng record            \n",
    "def addrec():\n",
    "    n = 99\n",
    "    c = {}\n",
    "    paymod = input(\"Payment Mode(Cash/Card)\")\n",
    "    for i in range((len(a)+1),n,1):\n",
    "        ex = int(input(\"Enter 0 for exit or other key for continue :\"))\n",
    "        if ex == 0:\n",
    "            print(\"Exited successfully.\")\n",
    "            break       \n",
    "        else:\n",
    "            particulars = input(\"Enter Particulars :\")\n",
    "            QTY = int(input(\"Quantity :\"))\n",
    "            rate = int(input(\"Rate :\"))\n",
    "            amount = QTY*rate\n",
    "            c[i] = {particulars :[QTY,rate,amount]}\n",
    "            a.update(c) \n",
    "addrec()\n",
    "print(a)"
   ]
  },
  {
   "cell_type": "code",
   "execution_count": 92,
   "metadata": {},
   "outputs": [
    {
     "name": "stdout",
     "output_type": "stream",
     "text": [
      "{'orange': [1, 120, 120]}\n",
      "1 {'orange': [1, 120, 120]}\n",
      "3 {'jaam': [2, 320, 640]}\n"
     ]
    }
   ],
   "source": [
    "#for reading \n",
    "def readpurchase():\n",
    "    for key in a.keys():\n",
    "        print (key,a[key]) \n",
    "readpurchase()"
   ]
  },
  {
   "cell_type": "code",
   "execution_count": 89,
   "metadata": {},
   "outputs": [
    {
     "name": "stdout",
     "output_type": "stream",
     "text": [
      "{1: {'orange': [1, 120, 120]}, 3: {'jaam': [2, 320, 640]}}\n",
      "760\n"
     ]
    }
   ],
   "source": [
    "#For sum \n",
    "def sumrec(): \n",
    "    total = 0\n",
    "    sumation = 0\n",
    "    \n",
    "    #for j in range(1,(len(a)+1)):\n",
    "    for key in a.keys():\n",
    "        j = key\n",
    "        temp = a[j].items()            \n",
    "        res = a[j].keys()\n",
    "        for key in res:\n",
    "            namount = a[j][key][2]\n",
    "            total = total+namount\n",
    "            sumation = total\n",
    "    return(sumation)\n",
    "total1 = sumrec()\n",
    "print(total1)\n"
   ]
  },
  {
   "cell_type": "code",
   "execution_count": 112,
   "metadata": {},
   "outputs": [
    {
     "name": "stdout",
     "output_type": "stream",
     "text": [
      "{3: {'apple': [1, 250, 250]}, 2: {'apple': [1, 250, 250]}, 4: {'kiwi': [1, 280, 280]}}\n"
     ]
    }
   ],
   "source": [
    "\n",
    "    print(a)\n"
   ]
  },
  {
   "cell_type": "code",
   "execution_count": 76,
   "metadata": {},
   "outputs": [
    {
     "name": "stdout",
     "output_type": "stream",
     "text": [
      "Enter the name of particular to be deletedkiwi\n",
      "kiwi  deleted.\n"
     ]
    }
   ],
   "source": [
    "def deleterec():   \n",
    "    found = 0\n",
    "    cparticular = input(\"Enter the name of particular to be deleted\")\n",
    "    for j in range(1,(len(a)+1)):\n",
    "        temp = a[j].items()            \n",
    "        res = a[j].keys()\n",
    "        for key in res:\n",
    "            if key == cparticular:\n",
    "                found = 1\n",
    "                del a[j]\n",
    "                break\n",
    "            else:\n",
    "                found= 0\n",
    "        if found == 1:\n",
    "            break\n",
    "    if found == 0:\n",
    "        print(cparticular,\" : not found in list \")    \n",
    "    else:\n",
    "        print(cparticular,\" deleted.\") \n",
    "deleterec()"
   ]
  },
  {
   "cell_type": "code",
   "execution_count": 109,
   "metadata": {},
   "outputs": [],
   "source": [
    "def updaterec():\n",
    "    found = 0\n",
    "    changeitem = input(\"what do you want to change: Enter (P - particulars,Q - Quantity, R- Rate)\")\n",
    "    if changeitem == \"P\":\n",
    "        cparticular = input(\"Enter the name of particular to be changed\")\n",
    "        nparticular = input(\"Enter particular to be changed\")\n",
    "        nQTY = int(input(\"Quantity :\"))\n",
    "        nrate = int(input(\"Rate :\"))\n",
    "        namount = nQTY*nrate\n",
    "        for key in a.keys():\n",
    "            j = key\n",
    "            temp = a[j].items()            \n",
    "            res = a[j].keys()\n",
    "            for key in res:\n",
    "                if key == cparticular:\n",
    "                    found = 1\n",
    "                    a[j]={nparticular:[nQTY,nrate,namount]}\n",
    "                    break\n",
    "                else:\n",
    "                    found= 0\n",
    "        if found == 0:\n",
    "            print(cparticular,\" : not found in list \")    \n",
    "        else:\n",
    "            print(cparticular,\" : changed to :\",nparticular) \n",
    "            print(a)\n",
    "            \n",
    "    if changeitem == \"Q\":\n",
    "        nparticular = input(\"Enter particular to be changed\")\n",
    "        nQTY = int(input(\"New Quantity :\"))\n",
    "        nrate = int(input(\"if Rate not have to change enter 0 :\"))\n",
    "        namount = nQTY*nrate\n",
    "        for key in a.keys():\n",
    "            j = key\n",
    "            temp = a[j].items()            \n",
    "            res = a[j].keys()\n",
    "            for key in res:\n",
    "                if key == nparticular:\n",
    "                    found = 1\n",
    "                    oqty = a[j][key][0]\n",
    "                    orate = a[j][key][1]\n",
    "                    #if nrate == 0:\n",
    "                          # nrate = orate \n",
    "                    a[j]={nparticular:[nQTY,nrate,namount]}\n",
    "                    break\n",
    "                else:\n",
    "                    found= 0\n",
    "            if found == 1:\n",
    "                break\n",
    "        if found == 0:\n",
    "            print(nparticular,\" : not found in list \")    \n",
    "        else:\n",
    "            print(nparticular,\" : changed to :\",nparticular) \n",
    "            print(a)"
   ]
  },
  {
   "cell_type": "code",
   "execution_count": 77,
   "metadata": {},
   "outputs": [
    {
     "name": "stdout",
     "output_type": "stream",
     "text": [
      "{1: {'orange': [1, 120, 120]}, 3: {'jaam': [2, 320, 640]}}\n"
     ]
    }
   ],
   "source": [
    "print(a)"
   ]
  },
  {
   "cell_type": "code",
   "execution_count": 93,
   "metadata": {},
   "outputs": [
    {
     "name": "stdout",
     "output_type": "stream",
     "text": [
      "Bhat- Bhateni Super Market\n",
      "bill No = 1\n",
      "payment Mode : cash payment\n",
      "1 {'orange': [1, 120, 120]}\n",
      "3 {'jaam': [2, 320, 640]}\n",
      "total amount to be payed is  :  760\n"
     ]
    }
   ],
   "source": [
    "\n",
    "def printreport():\n",
    "    totalpay = sumrec()\n",
    "    print(\"Bhat- Bhateni Super Market\")\n",
    "    print(\"bill No = 1\")\n",
    "    if paymod.lower() == \"card\":\n",
    "        print(\"payment Mode : card payment\")\n",
    "    else:\n",
    "        print(\"payment Mode : cash payment\")\n",
    "    readpurchase()\n",
    "    print(\"total amount to be payed is  : \",totalpay)\n",
    "printreport()"
   ]
  },
  {
   "cell_type": "code",
   "execution_count": 94,
   "metadata": {},
   "outputs": [
    {
     "name": "stdout",
     "output_type": "stream",
     "text": [
      "{1: {'orange': [1, 120, 120]}, 3: {'jaam': [2, 320, 640]}}\n"
     ]
    }
   ],
   "source": [
    "print(a)"
   ]
  },
  {
   "cell_type": "code",
   "execution_count": 110,
   "metadata": {},
   "outputs": [
    {
     "name": "stdout",
     "output_type": "stream",
     "text": [
      "Enter the value I - new record,A - add record, U - update recod, D - delete record, Q - View record, R- View ReportU\n",
      "what do you want to change: Enter (P - particulars,Q - Quantity, R- Rate)P\n",
      "Enter the name of particular to be changedorange\n",
      "Enter particular to be changedapple\n",
      "Quantity :1\n",
      "Rate :250\n",
      "orange  : not found in list \n"
     ]
    }
   ],
   "source": [
    "\n",
    "        \n",
    "##Calling functions \n",
    "callfun = input(\"Enter the value I - new record,A - add record, U - update recod, D - delete record, Q - View record, R- View Report\")\n",
    "if callfun == 'I':\n",
    "    insertrec()\n",
    "elif callfun == 'U':\n",
    "    updaterec()\n",
    "elif callfun == 'D':\n",
    "    deleterec()  \n",
    "elif callfun == 'Q':\n",
    "    readpurchase() \n",
    "elif callfun == 'R':\n",
    "    printreport() \n",
    "elif callfun == 'A':\n",
    "    addrec() \n",
    "else:\n",
    "    pass"
   ]
  },
  {
   "cell_type": "code",
   "execution_count": 111,
   "metadata": {},
   "outputs": [
    {
     "name": "stdout",
     "output_type": "stream",
     "text": [
      "{3: {'apple': [1, 250, 250]}, 2: {'apple': [1, 250, 250]}, 4: {'kiwi': [1, 280, 280]}}\n"
     ]
    }
   ],
   "source": [
    "print(a)"
   ]
  },
  {
   "cell_type": "code",
   "execution_count": null,
   "metadata": {},
   "outputs": [],
   "source": []
  },
  {
   "cell_type": "code",
   "execution_count": null,
   "metadata": {},
   "outputs": [],
   "source": []
  },
  {
   "cell_type": "code",
   "execution_count": null,
   "metadata": {},
   "outputs": [],
   "source": []
  },
  {
   "cell_type": "code",
   "execution_count": null,
   "metadata": {},
   "outputs": [],
   "source": []
  },
  {
   "cell_type": "code",
   "execution_count": null,
   "metadata": {},
   "outputs": [],
   "source": []
  }
 ],
 "metadata": {
  "kernelspec": {
   "display_name": "Python 3",
   "language": "python",
   "name": "python3"
  },
  "language_info": {
   "codemirror_mode": {
    "name": "ipython",
    "version": 3
   },
   "file_extension": ".py",
   "mimetype": "text/x-python",
   "name": "python",
   "nbconvert_exporter": "python",
   "pygments_lexer": "ipython3",
   "version": "3.8.5"
  }
 },
 "nbformat": 4,
 "nbformat_minor": 4
}
