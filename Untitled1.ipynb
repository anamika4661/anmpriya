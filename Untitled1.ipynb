{
 "cells": [
  {
   "cell_type": "code",
   "execution_count": null,
   "metadata": {},
   "outputs": [],
   "source": [
    "list\n",
    "- multiple values accept\n",
    "-mutable data type\n",
    "indexing\n",
    "ordered\n",
    "duplicate members"
   ]
  },
  {
   "cell_type": "code",
   "execution_count": null,
   "metadata": {},
   "outputs": [],
   "source": [
    " a = [\"Apple\",\"Ball\",\"Cat\",\"Dog\"]\n",
    "print(a)\n",
    "print(type(a))\n",
    "print(len(a))"
   ]
  },
  {
   "cell_type": "code",
   "execution_count": null,
   "metadata": {},
   "outputs": [],
   "source": [
    "a = \"Apple\"\n",
    "len(a)"
   ]
  },
  {
   "cell_type": "code",
   "execution_count": null,
   "metadata": {},
   "outputs": [],
   "source": [
    " a = [\"Apple\",\"Ball\",\"Cat\",\"Dog\",1,2,3]\n",
    "print(a[0:4])"
   ]
  },
  {
   "cell_type": "code",
   "execution_count": null,
   "metadata": {},
   "outputs": [],
   "source": [
    " a = [\"Apple\",\"Ball\",\"Cat\",\"Dog\",1,2,3]\n",
    "print(a[6::-1])"
   ]
  },
  {
   "cell_type": "code",
   "execution_count": null,
   "metadata": {},
   "outputs": [],
   "source": [
    " a = [\"Apple\",\"Ball\",\"Cat\",\"Dog\",1,2,3]\n",
    "print(a[0:7:2])"
   ]
  },
  {
   "cell_type": "code",
   "execution_count": null,
   "metadata": {},
   "outputs": [],
   "source": [
    "a = [\"apple\",\"ball\"]\n",
    "b = [\"cat\",\"dog\"]\n",
    "print(b+a)"
   ]
  },
  {
   "cell_type": "code",
   "execution_count": null,
   "metadata": {},
   "outputs": [],
   "source": [
    "a = [\"apple\",\"ball\"]\n",
    "b = [\"cat\",\"dog\"]\n",
    "print(a+b)"
   ]
  },
  {
   "cell_type": "code",
   "execution_count": null,
   "metadata": {},
   "outputs": [],
   "source": [
    "a = [\"Apple\",\"Apple\"]\n",
    "b = [\"apple\",\"ball\"]*2\n",
    "print(b)"
   ]
  },
  {
   "cell_type": "code",
   "execution_count": null,
   "metadata": {},
   "outputs": [],
   "source": [
    "a = [1,2,3]*2\n",
    "a"
   ]
  },
  {
   "cell_type": "code",
   "execution_count": null,
   "metadata": {},
   "outputs": [],
   "source": [
    "a = [\"Apple\",\"Apple\"] + [2]\n",
    "print(a)"
   ]
  },
  {
   "cell_type": "code",
   "execution_count": null,
   "metadata": {},
   "outputs": [],
   "source": [
    "a = [\"apple\",\"ball\"]\n",
    "a[0] = \"Anmt\"\n",
    "print(a)"
   ]
  },
  {
   "cell_type": "code",
   "execution_count": null,
   "metadata": {},
   "outputs": [],
   "source": [
    "y = []\n",
    "n = int(input(\"Enter the value of n = \"))\n",
    "for i in range(n):\n",
    "    x = int(input(\"enter x = \"))\n",
    "    y.append(x)\n",
    "print(y)"
   ]
  },
  {
   "cell_type": "code",
   "execution_count": null,
   "metadata": {},
   "outputs": [],
   "source": [
    "a = [1,2,3,4,5,6]\n",
    "a.insert(2,0)\n",
    "print(a)"
   ]
  },
  {
   "cell_type": "code",
   "execution_count": null,
   "metadata": {},
   "outputs": [],
   "source": [
    "y = []\n",
    "n = input(\"Enter the value of n = \")\n",
    "for i in range(n):\n",
    "    x = int(input(\"enter x = \"))\n",
    "    y.append(x)\n",
    "print(y)"
   ]
  },
  {
   "cell_type": "markdown",
   "metadata": {},
   "source": [
    "y = []\n",
    "n = int(input(\"Enter the value of n = \"))\n",
    "for i in range(n):\n",
    "    x = int(input(\"enter x = \"))\n",
    "    y.append(x)\n",
    "print(\"max :\",max(y))\n",
    "print(\"min :\",min(y))\n",
    "print(\"avg :\",avg(y))\n",
    "print(\"sum :\",sum(y))\n",
    "print(\"sort :\",y.sort())"
   ]
  },
  {
   "cell_type": "code",
   "execution_count": null,
   "metadata": {},
   "outputs": [],
   "source": [
    "y = [] \n",
    "n = int(input(\"Enter the value of n = \")) \n",
    "for i in range(n):\n",
    "    x = int(input(\"enter x = \")) \n",
    "    y.append(x) \n",
    "print(\"max :\",max(y))\n",
    "print(\"min :\",min(y)) \n",
    "print(\"sum :\",sum(y)) \n",
    "y.sort()\n",
    "print(y)\n"
   ]
  },
  {
   "cell_type": "code",
   "execution_count": null,
   "metadata": {},
   "outputs": [],
   "source": [
    "y.reverse\n",
    "print(y)"
   ]
  },
  {
   "cell_type": "markdown",
   "metadata": {},
   "source": []
  },
  {
   "cell_type": "code",
   "execution_count": null,
   "metadata": {},
   "outputs": [],
   "source": [
    "a = [\"sam\",\"apple\",\"Apple\",\"hbhb\"]\n",
    "a.sort()\n",
    "print(a)"
   ]
  },
  {
   "cell_type": "code",
   "execution_count": null,
   "metadata": {},
   "outputs": [],
   "source": [
    "for i in a:\n",
    "    print(i)"
   ]
  },
  {
   "cell_type": "code",
   "execution_count": null,
   "metadata": {},
   "outputs": [],
   "source": [
    "n = len(a)\n",
    "for i in range(n):\n",
    "    print(i,a[i])"
   ]
  },
  {
   "cell_type": "code",
   "execution_count": null,
   "metadata": {},
   "outputs": [],
   "source": [
    "a = ['apple','ball','cat','ball','zebra']\n",
    "search = input(\"enter the value of search =\")\n",
    "if search in a:\n",
    "    print(\"yes\",a.count(search))"
   ]
  },
  {
   "cell_type": "code",
   "execution_count": null,
   "metadata": {},
   "outputs": [],
   "source": [
    "b = []\n",
    "a = ['apple','Ball','Cat','ball','Zebra']\n",
    "n = len(a)\n",
    "for i in range(n):\n",
    "    t = a[i].lower()\n",
    "    b.append(t)\n",
    "print(b)\n",
    "search = input(\"enter the value of search =\").lower()\n",
    "if search in b:\n",
    "    print(\"yes\",b.count(search))"
   ]
  },
  {
   "cell_type": "code",
   "execution_count": null,
   "metadata": {},
   "outputs": [],
   "source": [
    "a = ['apple','Ball','Cat','ball','Zebra']\n",
    "n = len(a)\n",
    "count = 0\n",
    "search = input(\"enter the value of search =\").lower()\n",
    "for i in range(n):\n",
    "    if (search == a[i].lower()):\n",
    "        count = count+1\n",
    "if count > 0:\n",
    "    print(\"yes\",count)\n",
    "else:\n",
    "    print(\"Search data not found\")"
   ]
  },
  {
   "cell_type": "code",
   "execution_count": null,
   "metadata": {},
   "outputs": [],
   "source": [
    "a = ['apple','Ball','Cat','ball','Zebra']\n",
    "a.index(\"apple\")"
   ]
  },
  {
   "cell_type": "code",
   "execution_count": null,
   "metadata": {},
   "outputs": [],
   "source": [
    "a = ['apple','Ball','Cat','ball','Zebra']\n",
    "del a[0]\n",
    "print(a)"
   ]
  },
  {
   "cell_type": "code",
   "execution_count": null,
   "metadata": {},
   "outputs": [],
   "source": [
    "a = ['apple','Ball','Cat','ball','Zebra']\n",
    "del a\n",
    "print(a)"
   ]
  },
  {
   "cell_type": "code",
   "execution_count": null,
   "metadata": {},
   "outputs": [],
   "source": [
    "a = ['apple','Ball','Cat','ball','Zebra']\n",
    "a.clear()\n",
    "print(a)"
   ]
  },
  {
   "cell_type": "code",
   "execution_count": null,
   "metadata": {},
   "outputs": [],
   "source": [
    "a = ['apple','Ball','Cat','apple','ball','Zebra','apple']\n",
    "n = a.count(\"apple\")\n",
    "for i in range(n):\n",
    "    a.remove('apple')\n",
    "print(a)"
   ]
  },
  {
   "cell_type": "code",
   "execution_count": null,
   "metadata": {},
   "outputs": [],
   "source": [
    "a = ['apple','Ball','Cat','apple','ball','Zebra','apple']\n",
    "del a[0:4]\n",
    "print(a)"
   ]
  },
  {
   "cell_type": "code",
   "execution_count": null,
   "metadata": {},
   "outputs": [],
   "source": [
    "s = \"dkdkasdj jdad ---- dasdjasd jasjdjasd jsjdsd\"\n",
    "s.split()"
   ]
  },
  {
   "cell_type": "code",
   "execution_count": null,
   "metadata": {},
   "outputs": [],
   "source": [
    "s = \"apple.ball\"\n",
    "s.split('.')"
   ]
  },
  {
   "cell_type": "code",
   "execution_count": null,
   "metadata": {},
   "outputs": [],
   "source": [
    "s = \"dkdkasdj jdad ---- dasdjasd jasjdjasd jsjdsd\"\n",
    "my_data = s.split()\n",
    "print(my_data)\n",
    "print(my_data[0])"
   ]
  },
  {
   "cell_type": "code",
   "execution_count": null,
   "metadata": {},
   "outputs": [],
   "source": [
    "a = [[],[],[]]\n",
    "print(a)\n",
    "print(type(a))\n",
    "print(len(a))\n"
   ]
  },
  {
   "cell_type": "code",
   "execution_count": null,
   "metadata": {},
   "outputs": [],
   "source": [
    "a = [[1,2,3],[4,5,6],[7,8,9]]\n",
    "a[2][1]"
   ]
  },
  {
   "cell_type": "code",
   "execution_count": null,
   "metadata": {},
   "outputs": [],
   "source": [
    "a = []\n",
    "n = int(input(\"Enter n =\"))\n",
    "for i in range(1,n+1):\n",
    "    name = input(\"enter name = \")\n",
    "    phone = int(input(\"enter phone = \"))\n",
    "    info = [i,name,phone]\n",
    "    a.append(info)\n",
    "print(a)"
   ]
  },
  {
   "cell_type": "code",
   "execution_count": null,
   "metadata": {},
   "outputs": [],
   "source": [
    "sn = int(input(\"enter sn = \"))\n",
    "print(\"the data is = \",a[sn-1])"
   ]
  },
  {
   "cell_type": "code",
   "execution_count": null,
   "metadata": {},
   "outputs": [],
   "source": [
    "# multiple values accept\n",
    "a = [[1,2,3]]\n",
    "a*2"
   ]
  },
  {
   "cell_type": "code",
   "execution_count": null,
   "metadata": {},
   "outputs": [],
   "source": [
    "# - mutable data type \n",
    "a = [[\"a\",\"b\"],[\"f\",\"t\"]]\n",
    "a[0]= [\"h\",\"d\"]\n",
    "a[0][0]= \"k\"\n",
    "print(a)"
   ]
  },
  {
   "cell_type": "code",
   "execution_count": null,
   "metadata": {},
   "outputs": [],
   "source": [
    "a=[[\"a\",\"b\"]]\n",
    "b = [[\"c\",\"d\"]]\n",
    "a+b"
   ]
  },
  {
   "cell_type": "code",
   "execution_count": 37,
   "metadata": {},
   "outputs": [
    {
     "name": "stdout",
     "output_type": "stream",
     "text": [
      "Enter n =2\n",
      "enter name = test\n",
      "enter phone = 123\n",
      "enter name = test2\n",
      "enter phone = 233\n",
      "[[1, 'test', 123], [2, 'test2', 233]]\n"
     ]
    }
   ],
   "source": [
    "a = []\n",
    "n = int(input(\"Enter n =\"))\n",
    "for i in range(1,n+1):\n",
    "    name = input(\"enter name = \")\n",
    "    phone = int(input(\"enter phone = \"))\n",
    "    info = [i,name,phone]\n",
    "    a.append(info)\n",
    "print(a)\n"
   ]
  },
  {
   "cell_type": "code",
   "execution_count": 38,
   "metadata": {},
   "outputs": [
    {
     "name": "stdout",
     "output_type": "stream",
     "text": [
      "enter name =test\n",
      "[1, 'test', 123]\n",
      "[2, 'test2', 233]\n"
     ]
    }
   ],
   "source": [
    "\n",
    "name = input(\"enter name =\").lower()\n",
    "for j in a:\n",
    "    if name in j[1].lower():\n",
    "        print(j)\n",
    "        \n"
   ]
  },
  {
   "cell_type": "code",
   "execution_count": 40,
   "metadata": {},
   "outputs": [
    {
     "name": "stdout",
     "output_type": "stream",
     "text": [
      "enter name =test\n",
      "[2, 'test2', 233]\n"
     ]
    }
   ],
   "source": [
    "name = input(\"enter name =\").lower()\n",
    "for j in a:\n",
    "    if name in j[1].lower():\n",
    "        a.remove\n",
    "print(j)"
   ]
  },
  {
   "cell_type": "code",
   "execution_count": null,
   "metadata": {},
   "outputs": [],
   "source": [
    "print(a)"
   ]
  },
  {
   "cell_type": "code",
   "execution_count": null,
   "metadata": {},
   "outputs": [],
   "source": [
    "name = input(\"enter name =\").lower()\n",
    "for j in a:\n",
    "    if name in j[1].lower():\n",
    "        j[1] = \"hari prasad\"\n",
    "       # a[1] = \"ram prasad\"\n",
    "        print(j)"
   ]
  },
  {
   "cell_type": "code",
   "execution_count": null,
   "metadata": {},
   "outputs": [],
   "source": [
    "print(a)"
   ]
  },
  {
   "cell_type": "code",
   "execution_count": 9,
   "metadata": {},
   "outputs": [
    {
     "name": "stdout",
     "output_type": "stream",
     "text": [
      "Enter 0 for exit or 1 for continue: 1\n",
      "Enter name: Anamika Jha \n",
      "Enter Roll Number: 1\n",
      "Enter Contact No: 23\n",
      "mark in percentage60\n",
      "Enter 0 for exit or 1 for continue: 1\n",
      "Enter name: ashish shrestha \n",
      "Enter Roll Number: 2\n",
      "Enter Contact No: 2\n",
      "mark in percentage80\n",
      "Enter 0 for exit or 1 for continue: 1\n",
      "Enter name: ashish manandhar \n",
      "Enter Roll Number: 3\n",
      "Enter Contact No: 345\n",
      "mark in percentage40\n",
      "Enter 0 for exit or 1 for continue: 1\n",
      "Enter name: Sushil napit\n",
      "Enter Roll Number: 4\n",
      "Enter Contact No: 43434\n",
      "mark in percentage50\n",
      "Enter 0 for exit or 1 for continue: 0\n",
      "[[1, 'Anamika Jha ', 1, 23, 60], [2, 'ashish shrestha ', 2, 2, 80], [3, 'ashish manandhar ', 3, 345, 40], [4, 'Sushil napit', 4, 43434, 50]]\n"
     ]
    }
   ],
   "source": [
    "#WAP to make a result management system \n",
    "sturecord = []\n",
    "n = 999999999\n",
    "standard = \"BA\"\n",
    "for i in range(1,n,1):\n",
    "    lasst = int(input(\"Enter 0 for exit or 1 for continue: \"))\n",
    "    if lasst == 0 :\n",
    "        break;\n",
    "    else:\n",
    "        name = input(\"Enter name: \")\n",
    "        rollNum = int(input(\"Enter Roll Number: \"))\n",
    "        contactno = int(input(\"Enter Contact No: \"))\n",
    "        percentage = int(input(\"mark in percentage\"))\n",
    "        info = [i,name,rollNum,contactno,percentage]\n",
    "        sturecord.append(info)           \n",
    "print(sturecord)\n",
    "    \n",
    "    "
   ]
  },
  {
   "cell_type": "code",
   "execution_count": 12,
   "metadata": {},
   "outputs": [
    {
     "ename": "AttributeError",
     "evalue": "'list' object has no attribute 'split'",
     "output_type": "error",
     "traceback": [
      "\u001b[1;31m---------------------------------------------------------------------------\u001b[0m",
      "\u001b[1;31mAttributeError\u001b[0m                            Traceback (most recent call last)",
      "\u001b[1;32m<ipython-input-12-343509006272>\u001b[0m in \u001b[0;36m<module>\u001b[1;34m\u001b[0m\n\u001b[1;32m----> 1\u001b[1;33m \u001b[0msturecord\u001b[0m\u001b[1;33m.\u001b[0m\u001b[0msplit\u001b[0m\u001b[1;33m(\u001b[0m\u001b[1;34m\",\"\u001b[0m\u001b[1;33m)\u001b[0m\u001b[1;33m\u001b[0m\u001b[1;33m\u001b[0m\u001b[0m\n\u001b[0m\u001b[0;32m      2\u001b[0m \u001b[0mprint\u001b[0m\u001b[1;33m(\u001b[0m\u001b[0msturecord\u001b[0m\u001b[1;33m)\u001b[0m\u001b[1;33m\u001b[0m\u001b[1;33m\u001b[0m\u001b[0m\n",
      "\u001b[1;31mAttributeError\u001b[0m: 'list' object has no attribute 'split'"
     ]
    }
   ],
   "source": [
    "print(sturecord)"
   ]
  },
  {
   "cell_type": "code",
   "execution_count": 49,
   "metadata": {},
   "outputs": [
    {
     "name": "stdout",
     "output_type": "stream",
     "text": [
      "[2, 'ashish shrestha ', 2, 2, 80]\n",
      "[3, 'ashish manandhar ', 3, 345, 40]\n",
      "[4, 'Sushil napit', 4, 43434, 50]\n"
     ]
    }
   ],
   "source": [
    "def showrecord():\n",
    "    for j in range(0,len(sturecord)):\n",
    "        #if rollnum == j[1]:\n",
    "            print(sturecord[j])\n",
    "showrecord()\n"
   ]
  },
  {
   "cell_type": "code",
   "execution_count": 30,
   "metadata": {},
   "outputs": [
    {
     "name": "stdout",
     "output_type": "stream",
     "text": [
      "[1, 'Anamika Jha ', 1, 23, 60]\n",
      "[2, 'ashish shrestha ', 2, 2, 80]\n",
      "[3, 'ashish manandhar ', 3, 345, 40]\n",
      "[4, 'Sushil napit', 4, 43434, 50]\n"
     ]
    }
   ],
   "source": [
    "def dmldelete1(rollnum):\n",
    "    for j in range(0,len(sturecord)):\n",
    "        #if rollnum == j[1]:\n",
    "        temp = sturecord[j]\n",
    "        if rollnum == temp[2]:\n",
    "            del sturecord[j]\n",
    "            break\n",
    "            print(\"temp :\",temp[2])    \n",
    "rollnum = int(input(\"Enter Rollnumber to be deleted : \"))\n",
    "dmldelete1(rollnum)  \n",
    "#print(sturecord)\n"
   ]
  },
  {
   "cell_type": "code",
   "execution_count": 51,
   "metadata": {},
   "outputs": [
    {
     "name": "stdout",
     "output_type": "stream",
     "text": [
      "Enter 0 for exit or 1 for continue: 1\n",
      "Enter name: laxmi jha \n",
      "Enter Roll Number: 8\n",
      "Enter Contact No: 223\n",
      "mark in percentage30\n",
      "Enter 0 for exit or 1 for continue: 0\n",
      "[[2, 'ashish shrestha ', 2, 2, 80], [3, 'ashish manandhar ', 3, 345, 40], [4, 'Sushil napit', 4, 43434, 50], [1, 'laxmi jha ', 8, 223, 30]]\n"
     ]
    }
   ],
   "source": [
    "def dmlinsert1():\n",
    "    n = 999999999\n",
    "    for i in range(1,n,1):\n",
    "        lasst = int(input(\"Enter 0 for exit or 1 for continue: \"))\n",
    "        if lasst == 0 :\n",
    "            break;\n",
    "        else:\n",
    "            name = input(\"Enter name: \")\n",
    "            rollNum = int(input(\"Enter Roll Number: \"))\n",
    "            contactno = int(input(\"Enter Contact No: \"))\n",
    "            percentage = int(input(\"mark in percentage\"))\n",
    "            info = [i,name,rollNum,contactno,percentage]\n",
    "            sturecord.append(info)   \n",
    "dmlinsert1() \n",
    "#print(sturecord)\n"
   ]
  },
  {
   "cell_type": "code",
   "execution_count": 47,
   "metadata": {},
   "outputs": [
    {
     "name": "stdout",
     "output_type": "stream",
     "text": [
      "[[1, 2]]\n"
     ]
    }
   ],
   "source": [
    "def dmledit():\n",
    "    editrecord = int(input(\"Enter the rollnum of record to be updated : \"))\n",
    "    change = int(input(\"Enter the column \"))\n",
    "    for i in range(len(sturecord)):\n",
    "        temp = sturecord[i]\n",
    "        if editrecord == temp[2]:\n",
    "            \n",
    "            \n",
    "            \n",
    "            \n",
    "    \n",
    "    \n",
    "    \n",
    "    \n",
    "    "
   ]
  },
  {
   "cell_type": "code",
   "execution_count": null,
   "metadata": {},
   "outputs": [],
   "source": []
  },
  {
   "cell_type": "code",
   "execution_count": null,
   "metadata": {},
   "outputs": [],
   "source": []
  }
 ],
 "metadata": {
  "kernelspec": {
   "display_name": "Python 3",
   "language": "python",
   "name": "python3"
  },
  "language_info": {
   "codemirror_mode": {
    "name": "ipython",
    "version": 3
   },
   "file_extension": ".py",
   "mimetype": "text/x-python",
   "name": "python",
   "nbconvert_exporter": "python",
   "pygments_lexer": "ipython3",
   "version": "3.8.5"
  }
 },
 "nbformat": 4,
 "nbformat_minor": 4
}
