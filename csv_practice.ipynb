{
 "cells": [
  {
   "cell_type": "code",
   "execution_count": 1,
   "metadata": {},
   "outputs": [
    {
     "name": "stdout",
     "output_type": "stream",
     "text": [
      "enter the number of records2\n",
      "enter name of clientanamika\n",
      "enter age12\n",
      "enter grade12\n",
      "enter science marks1\n",
      "enter nepali marks1\n",
      "enter math marks1\n",
      "1\n",
      "enter name of clienttest\n",
      "enter age2\n",
      "enter grade2\n",
      "enter science marks2\n",
      "enter nepali marks2\n",
      "enter math marks2\n",
      "2\n"
     ]
    },
    {
     "ename": "NameError",
     "evalue": "name 's' is not defined",
     "output_type": "error",
     "traceback": [
      "\u001b[1;31m---------------------------------------------------------------------------\u001b[0m",
      "\u001b[1;31mNameError\u001b[0m                                 Traceback (most recent call last)",
      "\u001b[1;32m<ipython-input-1-9ce7aadd7abb>\u001b[0m in \u001b[0;36m<module>\u001b[1;34m\u001b[0m\n\u001b[0;32m     20\u001b[0m     \u001b[1;32mexcept\u001b[0m \u001b[0mIOError\u001b[0m\u001b[1;33m:\u001b[0m\u001b[1;33m\u001b[0m\u001b[1;33m\u001b[0m\u001b[0m\n\u001b[0;32m     21\u001b[0m         \u001b[0mprint\u001b[0m\u001b[1;33m(\u001b[0m\u001b[1;34m\" check value in marks field\"\u001b[0m\u001b[1;33m)\u001b[0m\u001b[1;33m\u001b[0m\u001b[1;33m\u001b[0m\u001b[0m\n\u001b[1;32m---> 22\u001b[1;33m \u001b[0mprint\u001b[0m\u001b[1;33m(\u001b[0m\u001b[0ms\u001b[0m\u001b[1;33m)\u001b[0m\u001b[1;33m\u001b[0m\u001b[1;33m\u001b[0m\u001b[0m\n\u001b[0m\u001b[0;32m     23\u001b[0m \u001b[1;33m\u001b[0m\u001b[0m\n\u001b[0;32m     24\u001b[0m \u001b[1;33m\u001b[0m\u001b[0m\n",
      "\u001b[1;31mNameError\u001b[0m: name 's' is not defined"
     ]
    }
   ],
   "source": [
    "#Write a Python program to write a Python dictionary to a csv file. After writing the CSV file read the CSV file and display the content.\n",
    "n = int(input(\"enter the number of records\"))\n",
    "csv_head = [\"ID\",\"name\",\"age\",\"grade\",\"sc\",\"total_marks\"]\n",
    "csv_data = {}\n",
    "for i in range(1,n+1):\n",
    "    try:\n",
    "        name = input(\"enter name of client\")\n",
    "        age = int(input(\"enter age\"))\n",
    "        grade = input(\"enter grade\")\n",
    "        sc = int(input(\"enter science marks\"))\n",
    "        np = int(input(\"enter nepali marks\"))\n",
    "        math = int(input(\"enter math marks\"))\n",
    "        total_marks = sc+np+math\n",
    "        print(i)\n",
    "        csv_data[\"name\"]= [name]\n",
    "        csv_data[\"age\"]=[age]\n",
    "        csv_data[\"grade\"] = [grade]\n",
    "        csv_data[\"sc\"] = [sc]\n",
    "        csv_data[\"total_marks\"] = [total_marks]\n",
    "    except IOError:\n",
    "        print(\" check value in marks field\")\n",
    "print(csv_data)\n",
    "\n",
    "\n",
    "    \n",
    "    \n",
    "\n",
    "\n",
    "\n",
    "\n",
    "\n",
    "\n"
   ]
  },
  {
   "cell_type": "markdown",
   "metadata": {},
   "source": [
    "##### "
   ]
  },
  {
   "cell_type": "code",
   "execution_count": 2,
   "metadata": {},
   "outputs": [
    {
     "name": "stdout",
     "output_type": "stream",
     "text": [
      "{'name': ['test'], 'age': [2], 'grade': ['2'], 'sc': [2], 'total_marks': [6]}\n"
     ]
    }
   ],
   "source": [
    "print(csv_data)"
   ]
  },
  {
   "cell_type": "code",
   "execution_count": 8,
   "metadata": {},
   "outputs": [
    {
     "name": "stdout",
     "output_type": "stream",
     "text": [
      "I/O error\n",
      "CSV file as a dictionary:\n",
      "\n",
      "id\n",
      "Column1\n",
      "Column2\n",
      "Column3\n",
      "Column4\n",
      "Column5\n"
     ]
    }
   ],
   "source": [
    "import csv\n",
    "csv_columns = ['id','Column1', 'Column2', 'Column3', 'Column4', 'Column5']\n",
    "dict_data = {'id':['1', '2', '3'],\n",
    "    'Column1':[33, 25, 56],\n",
    "    'Column2':[35, 30, 30],\n",
    "    'Column3':[21, 40, 55],\n",
    "    'Column4':[71, 25, 55],\n",
    "    'Column5':[10, 10, 40], }\n",
    "excel_file = 'temp.csv'\n",
    "m = ['ID','name', 'age', 'grade', 'sc', 'total_marks']\n",
    "try:\n",
    "    with open(\"excel_file.csv\",'w') as csvfile:\n",
    "        w = csv.DictWriter(csvfile,fieldnames= csv_columns)\n",
    "        w.writeheader()\n",
    "        for data in dict_data:\n",
    "            w.writerow(dict_data)\n",
    "except IOError:\n",
    "    print(\"I/O error\")\n",
    "j = csv.DictReader(open(\"excel_file.csv\"))\n",
    "\n",
    "print(\"CSV file as a dictionary:\\n\")\n",
    "for row in dict_data:\n",
    "    print(row)"
   ]
  },
  {
   "cell_type": "code",
   "execution_count": 7,
   "metadata": {},
   "outputs": [
    {
     "name": "stdout",
     "output_type": "stream",
     "text": [
      "{'id': ['1', '2', '3'], 'Column1': [33, 25, 56], 'Column2': [35, 30, 30], 'Column3': [21, 40, 55], 'Column4': [71, 25, 55], 'Column5': [10, 10, 40]}\n"
     ]
    }
   ],
   "source": [
    "print(dict_data)"
   ]
  },
  {
   "cell_type": "code",
   "execution_count": null,
   "metadata": {},
   "outputs": [],
   "source": []
  }
 ],
 "metadata": {
  "kernelspec": {
   "display_name": "Python 3",
   "language": "python",
   "name": "python3"
  },
  "language_info": {
   "codemirror_mode": {
    "name": "ipython",
    "version": 3
   },
   "file_extension": ".py",
   "mimetype": "text/x-python",
   "name": "python",
   "nbconvert_exporter": "python",
   "pygments_lexer": "ipython3",
   "version": "3.8.5"
  }
 },
 "nbformat": 4,
 "nbformat_minor": 4
}
