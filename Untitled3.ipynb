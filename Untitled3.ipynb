{
 "cells": [
  {
   "cell_type": "code",
   "execution_count": null,
   "metadata": {},
   "outputs": [],
   "source": [
    "try:\n",
    "    a = int(input(\"Enter input a :\"))\n",
    "except:\n",
    "    print(\"enter in integer\")"
   ]
  },
  {
   "cell_type": "code",
   "execution_count": null,
   "metadata": {},
   "outputs": [],
   "source": [
    "try:\n",
    "    a = int(input(\"Enter input a :\"))\n",
    "    b = int(input(\"Enter input b :\"))\n",
    "    c = a/b\n",
    "    print(c)\n",
    "except:\n",
    "    print(\"error occured\")"
   ]
  },
  {
   "cell_type": "code",
   "execution_count": null,
   "metadata": {},
   "outputs": [],
   "source": [
    "a = int(input(\"Enter input a :\"))\n",
    "b = int(input(\"Enter input b :\"))\n",
    "c = a/b\n",
    "print(c)"
   ]
  },
  {
   "cell_type": "code",
   "execution_count": null,
   "metadata": {},
   "outputs": [],
   "source": [
    "#ZeroDivisionError\n",
    "try:\n",
    "    a = int(input(\"Enter input a :\"))\n",
    "    b = int(input(\"Enter input b :\"))\n",
    "    c = a/b\n",
    "    print(c)\n",
    "except ZeroDivisionError:\n",
    "    print(\"zero error\")\n",
    "except ValueError:\n",
    "    print(\"value error\")"
   ]
  },
  {
   "cell_type": "code",
   "execution_count": null,
   "metadata": {},
   "outputs": [],
   "source": [
    "# WAP to count the execution of the finally block code.\n",
    "count = 0\n",
    "def test(a,b):\n",
    "    return (a/b)\n",
    "\n",
    "for i in (0,1,3,4,5):\n",
    "    try:        \n",
    "        if i == 0:\n",
    "            raise ZeroDivisionError\n",
    "        else:\n",
    "            res = test(8,i)  \n",
    "    except ZeroDivisionError:\n",
    "        print(\"error occured, i = \",i)\n",
    "    else:\n",
    "        print(\"result is: \",res)    \n",
    "    finally:\n",
    "        count = count+1\n",
    "print(\"count : \",count)    \n",
    "    \n",
    "    \n",
    "\n",
    "    \n",
    "\n"
   ]
  },
  {
   "cell_type": "code",
   "execution_count": null,
   "metadata": {},
   "outputs": [],
   "source": [
    "count = 0\n",
    "def test(a,b):\n",
    "    return (a/b)\n",
    "\n",
    "for i in (0,1,3,4,5):\n",
    "    try:  \n",
    "        if (i == 0):\n",
    "            raise ZeroDivisionError\n",
    "        assert(i>1)\n",
    "        print(i)\n",
    "    except AssertionError:\n",
    "        print(\"AssertionError i = \",i)\n",
    "    except ZeroDivisionError:\n",
    "        print(\"error occured, i = \",i)\n",
    "    else:        \n",
    "        print(\"result is: \",res)    \n",
    "    finally:\n",
    "        count = count+1\n",
    "print(\"count : \",count)    \n",
    "    "
   ]
  },
  {
   "cell_type": "code",
   "execution_count": null,
   "metadata": {},
   "outputs": [],
   "source": [
    "name = input(\"enter name \")\n",
    "a = [0,1,2,3,4,5,6,7,8,9]\n",
    "for i in range(0,len(name),1):\n",
    "    for j in a:\n",
    "        if (name[i] == str(j)):\n",
    "            print(i,j)\n",
    "            print(\"found error\")\n",
    "            break\n",
    "    "
   ]
  },
  {
   "cell_type": "code",
   "execution_count": null,
   "metadata": {},
   "outputs": [],
   "source": [
    " b = open(<file_name>,<mode>)\n",
    "b.close()"
   ]
  },
  {
   "cell_type": "code",
   "execution_count": null,
   "metadata": {},
   "outputs": [],
   "source": [
    "try:\n",
    "    b = open('class230pm.txt','x')\n",
    "    b.close()\n",
    "except:\n",
    "    print(\"The file is already there.\")"
   ]
  },
  {
   "cell_type": "code",
   "execution_count": null,
   "metadata": {},
   "outputs": [],
   "source": [
    "b = open('class230pm.txt','r')\n",
    "print(b.read())\n",
    "b.close()"
   ]
  },
  {
   "cell_type": "code",
   "execution_count": null,
   "metadata": {},
   "outputs": [],
   "source": [
    "b = open('class230pm.txt','r')\n",
    "c =b.read(100)\n",
    "print(type(c))\n",
    "print(c)\n",
    "b.close()"
   ]
  },
  {
   "cell_type": "code",
   "execution_count": null,
   "metadata": {},
   "outputs": [],
   "source": [
    "b = open('class230pm.txt','r')\n",
    "print(b.readline())\n",
    "print(b.readline())\n",
    "print(b.readline())\n",
    "b.close()"
   ]
  },
  {
   "cell_type": "code",
   "execution_count": null,
   "metadata": {},
   "outputs": [],
   "source": [
    "b = open('class230pm.txt','r')\n",
    "n = int(input(\"Enter line no = \"))\n",
    "for i in range(1,8):\n",
    "    if i != n:\n",
    "        b.readline()\n",
    "    else:\n",
    "        print(b.readline())\n",
    "b.close()"
   ]
  },
  {
   "cell_type": "code",
   "execution_count": null,
   "metadata": {},
   "outputs": [],
   "source": [
    "b = open('data.txt','a')\n",
    "b.write('hello world')\n",
    "b.close()"
   ]
  },
  {
   "cell_type": "code",
   "execution_count": null,
   "metadata": {},
   "outputs": [],
   "source": [
    "b = open('data.txt','a')\n",
    "#b.write('hello world')\n",
    "c = b.replace(\"hello\",'')\n",
    "print(c)\n",
    "b.close()"
   ]
  },
  {
   "cell_type": "code",
   "execution_count": null,
   "metadata": {},
   "outputs": [],
   "source": [
    "b = open('data.txt','r')\n",
    "print(b.readline())\n",
    "e = b.read()\n",
    "print(e)\n",
    "n = int(input(\"Enter line number to be deleted\"))\n",
    "for i in range(0,8):\n",
    "    if i != n:\n",
    "        print(b.readline())\n",
    "    else:\n",
    "        global y\n",
    "        z = b.readline()\n",
    "        print(z)\n",
    "        y = e.replace(z,'')\n",
    "        a = open('data.txt','w')\n",
    "        a.write(y)\n",
    "        a.close()\n",
    "b.close()\n",
    "b = open('data.txt','r')\n",
    "print(b.read())\n",
    "b.close()\n"
   ]
  },
  {
   "cell_type": "raw",
   "metadata": {},
   "source": []
  },
  {
   "cell_type": "code",
   "execution_count": null,
   "metadata": {},
   "outputs": [],
   "source": [
    "b = open('data.txt','r')\n",
    "print(b.read())\n",
    "b.close()"
   ]
  },
  {
   "cell_type": "code",
   "execution_count": 2,
   "metadata": {},
   "outputs": [
    {
     "name": "stdout",
     "output_type": "stream",
     "text": [
      "Enter line number to be deleted\n"
     ]
    },
    {
     "ename": "ValueError",
     "evalue": "invalid literal for int() with base 10: ''",
     "output_type": "error",
     "traceback": [
      "\u001b[1;31m---------------------------------------------------------------------------\u001b[0m",
      "\u001b[1;31mValueError\u001b[0m                                Traceback (most recent call last)",
      "\u001b[1;32m<ipython-input-2-5654c518054c>\u001b[0m in \u001b[0;36m<module>\u001b[1;34m\u001b[0m\n\u001b[0;32m      4\u001b[0m \u001b[0mfile_data\u001b[0m \u001b[1;33m=\u001b[0m \u001b[0me\u001b[0m\u001b[1;33m.\u001b[0m\u001b[0msplit\u001b[0m\u001b[1;33m(\u001b[0m\u001b[1;34m'\\n'\u001b[0m\u001b[1;33m)\u001b[0m\u001b[1;33m\u001b[0m\u001b[1;33m\u001b[0m\u001b[0m\n\u001b[0;32m      5\u001b[0m \u001b[1;31m#print(file_data)\u001b[0m\u001b[1;33m\u001b[0m\u001b[1;33m\u001b[0m\u001b[1;33m\u001b[0m\u001b[0m\n\u001b[1;32m----> 6\u001b[1;33m \u001b[0mn\u001b[0m \u001b[1;33m=\u001b[0m \u001b[0mint\u001b[0m\u001b[1;33m(\u001b[0m\u001b[0minput\u001b[0m\u001b[1;33m(\u001b[0m\u001b[1;34m\"Enter line number to be deleted\"\u001b[0m\u001b[1;33m)\u001b[0m\u001b[1;33m)\u001b[0m\u001b[1;33m\u001b[0m\u001b[1;33m\u001b[0m\u001b[0m\n\u001b[0m\u001b[0;32m      7\u001b[0m \u001b[1;32mfor\u001b[0m \u001b[0mi\u001b[0m \u001b[1;32min\u001b[0m \u001b[0mrange\u001b[0m\u001b[1;33m(\u001b[0m\u001b[1;36m0\u001b[0m\u001b[1;33m,\u001b[0m\u001b[1;33m(\u001b[0m\u001b[0mlen\u001b[0m\u001b[1;33m(\u001b[0m\u001b[0mfile_data\u001b[0m\u001b[1;33m)\u001b[0m\u001b[1;33m)\u001b[0m\u001b[1;33m,\u001b[0m\u001b[1;36m1\u001b[0m\u001b[1;33m)\u001b[0m\u001b[1;33m:\u001b[0m\u001b[1;33m\u001b[0m\u001b[1;33m\u001b[0m\u001b[0m\n\u001b[0;32m      8\u001b[0m     \u001b[1;32mif\u001b[0m \u001b[1;33m(\u001b[0m\u001b[0mi\u001b[0m\u001b[1;33m==\u001b[0m\u001b[1;33m(\u001b[0m\u001b[0mn\u001b[0m\u001b[1;33m-\u001b[0m\u001b[1;36m1\u001b[0m\u001b[1;33m)\u001b[0m\u001b[1;33m)\u001b[0m\u001b[1;33m:\u001b[0m\u001b[1;33m\u001b[0m\u001b[1;33m\u001b[0m\u001b[0m\n",
      "\u001b[1;31mValueError\u001b[0m: invalid literal for int() with base 10: ''"
     ]
    }
   ],
   "source": [
    "a = ''\n",
    "b = open('data.txt','r')\n",
    "e = b.read()\n",
    "file_data = e.split('\\n')\n",
    "#print(file_data)\n",
    "n = int(input(\"Enter line number to be deleted\"))\n",
    "for i in range(0,(len(file_data)),1):\n",
    "    if (i==(n-1)):\n",
    "        file_data[i] = str(n)+'. Replaced value'\n",
    "    else:\n",
    "        pass\n",
    "c = open('data1.txt','a')\n",
    "for j in range(0,(len(file_data)),1):\n",
    "    c.write(f'{file_data[j]}\\n')\n",
    "b.close()\n",
    "c.close()"
   ]
  },
  {
   "cell_type": "code",
   "execution_count": 6,
   "metadata": {},
   "outputs": [
    {
     "name": "stdout",
     "output_type": "stream",
     "text": [
      "1.hello world\n",
      "2. Replaced value\n",
      "3.hello world\n",
      "4.hello world\n",
      "5.hello world\n",
      "6.hello world\n",
      "7.hello world\n",
      "1.hello world\n",
      "2.hello world\n",
      "3. Replaced value\n",
      "4.hello world\n",
      "5.hello world\n",
      "6.hello world\n",
      "7.hello world\n",
      "\n"
     ]
    }
   ],
   "source": [
    "b = open('data1.txt','r')\n",
    "e = b.read()\n",
    "b.close()\n",
    "print(e)"
   ]
  },
  {
   "cell_type": "code",
   "execution_count": 8,
   "metadata": {},
   "outputs": [
    {
     "name": "stdout",
     "output_type": "stream",
     "text": [
      "Enter line number to be deleted4\n"
     ]
    }
   ],
   "source": [
    "a = ''\n",
    "b = open('data.txt','r')\n",
    "e = b.read()\n",
    "file_data = e.split('\\n')\n",
    "#print(file_data)\n",
    "n = int(input(\"Enter line number to be deleted\"))\n",
    "for i in range(0,(len(file_data)),1):\n",
    "    if (i==(n-1)):\n",
    "        del file_data[i]\n",
    "    else:\n",
    "        pass\n",
    "b.close()\n",
    "c = open('data.txt','w')\n",
    "for j in range(0,(len(file_data)),1):\n",
    "    c.write(f'{file_data[j]}\\n')\n",
    "c.close()"
   ]
  },
  {
   "cell_type": "code",
   "execution_count": 12,
   "metadata": {},
   "outputs": [
    {
     "name": "stdout",
     "output_type": "stream",
     "text": [
      "1.hello world\n",
      "3.hello world\n",
      "4.hello world\n",
      "6.hello world\n",
      "7.hello world\n",
      "\n",
      "\n"
     ]
    }
   ],
   "source": [
    "b = open('data.txt','r')\n",
    "e = b.read()\n",
    "b.close()\n",
    "print(e)"
   ]
  },
  {
   "cell_type": "code",
   "execution_count": 13,
   "metadata": {},
   "outputs": [
    {
     "name": "stdout",
     "output_type": "stream",
     "text": [
      "No such file exists\n"
     ]
    }
   ],
   "source": [
    "import os \n",
    "if os.path.exists('data1.txt'):\n",
    "    os.remove('data1.txt')\n",
    "else:\n",
    "    print(\"No such file exists\")"
   ]
  },
  {
   "cell_type": "code",
   "execution_count": 21,
   "metadata": {},
   "outputs": [
    {
     "data": {
      "text/plain": [
       "'untitled folder\\\\data.txt'"
      ]
     },
     "execution_count": 21,
     "metadata": {},
     "output_type": "execute_result"
    }
   ],
   "source": [
    "import shutil\n",
    "src = 'data.txt'\n",
    "dest = 'untitled folder'\n",
    "shutil.copy(src,dest)"
   ]
  },
  {
   "cell_type": "code",
   "execution_count": 22,
   "metadata": {},
   "outputs": [
    {
     "ename": "NameError",
     "evalue": "name 'null' is not defined",
     "output_type": "error",
     "traceback": [
      "\u001b[1;31m---------------------------------------------------------------------------\u001b[0m",
      "\u001b[1;31mNameError\u001b[0m                                 Traceback (most recent call last)",
      "\u001b[1;32m<ipython-input-22-196728703c3d>\u001b[0m in \u001b[0;36m<module>\u001b[1;34m\u001b[0m\n\u001b[0;32m    146\u001b[0m   {\n\u001b[0;32m    147\u001b[0m    \u001b[1;34m\"cell_type\"\u001b[0m\u001b[1;33m:\u001b[0m \u001b[1;34m\"code\"\u001b[0m\u001b[1;33m,\u001b[0m\u001b[1;33m\u001b[0m\u001b[1;33m\u001b[0m\u001b[0m\n\u001b[1;32m--> 148\u001b[1;33m    \u001b[1;34m\"execution_count\"\u001b[0m\u001b[1;33m:\u001b[0m \u001b[0mnull\u001b[0m\u001b[1;33m,\u001b[0m\u001b[1;33m\u001b[0m\u001b[1;33m\u001b[0m\u001b[0m\n\u001b[0m\u001b[0;32m    149\u001b[0m    \u001b[1;34m\"metadata\"\u001b[0m\u001b[1;33m:\u001b[0m \u001b[1;33m{\u001b[0m\u001b[1;33m}\u001b[0m\u001b[1;33m,\u001b[0m\u001b[1;33m\u001b[0m\u001b[1;33m\u001b[0m\u001b[0m\n\u001b[0;32m    150\u001b[0m    \"outputs\": [\n",
      "\u001b[1;31mNameError\u001b[0m: name 'null' is not defined"
     ]
    }
   ],
   "source": []
  },
  {
   "cell_type": "code",
   "execution_count": null,
   "metadata": {},
   "outputs": [],
   "source": []
  }
 ],
 "metadata": {
  "kernelspec": {
   "display_name": "Python 3",
   "language": "python",
   "name": "python3"
  },
  "language_info": {
   "codemirror_mode": {
    "name": "ipython",
    "version": 3
   },
   "file_extension": ".py",
   "mimetype": "text/x-python",
   "name": "python",
   "nbconvert_exporter": "python",
   "pygments_lexer": "ipython3",
   "version": "3.8.5"
  }
 },
 "nbformat": 4,
 "nbformat_minor": 4
}
