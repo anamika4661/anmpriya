{
 "cells": [
  {
   "cell_type": "code",
   "execution_count": null,
   "metadata": {
    "id": "rLVvtd3wPePR"
   },
   "outputs": [],
   "source": [
    " \n",
    "import pandas as pd\n",
    "a = open(\"school.csv\",\"w\")\n",
    "a.write(\"id,name,roll.no,class,subject,total,percent\\n\")\n",
    "i = 0\n",
    "id = 1\n",
    "while i != 1:\n",
    "  nam = input(\"enter name = \")\n",
    "  rol = int(input(\"enter roll no. = \"))\n",
    "  clas = int(input(\"enter class= \"))\n",
    "  j = 0\n",
    "  z = {}\n",
    "  y = {}\n",
    "  x = []\n",
    "  tsubmark = 0\n",
    "  tfsubmark = 0\n",
    "  while j != 1:\n",
    "    subnam = input(\"enter subject name = \")\n",
    "    submark = float(input(\"enter subject mark =\"))\n",
    "    fsubmark = float(input(\"enter subject full mark =\"))\n",
    "    tsubmark = tsubmark + submark\n",
    "    tfsubmark = tfsubmark +fsubmark\n",
    "    z[subnam] = submark\n",
    "    y['percent'] = (submark/fsubmark*100)\n",
    "    x.append(z)\n",
    "    x.append(y)\n",
    "    j = int(input('press 0 to add more subject else press 1= '))\n",
    "  percent = (tsubmark/tfsubmark)*100\n",
    "  i = int(input('press 0 to add more record else press 1= '))\n",
    "#  df = pd.DataFrame(a)\n",
    "  b = f\"{id},{nam},{rol},{clas},{x},{tsubmark},{percent}\\n\"\n",
    "  a.write(b)\n",
    "  id = id + 1\n",
    "a.close()\n",
    "df = pd.read_csv(\"school.csv\")\n",
    "print(df)\n",
    "#e = open(\"school.csv\",\"r\")\n",
    "#e.read()\n",
    "#e.close()"
   ]
  },
  {
   "cell_type": "code",
   "execution_count": null,
   "metadata": {
    "id": "zys8mH4CPhCE"
   },
   "outputs": [],
   "source": [
    "df"
   ]
  }
 ],
 "metadata": {
  "colab": {
   "authorship_tag": "ABX9TyPrnky/9O3dCzv9MdXRjYG6",
   "collapsed_sections": [],
   "name": "school in table.ipynb",
   "provenance": []
  },
  "kernelspec": {
   "display_name": "Python 3",
   "language": "python",
   "name": "python3"
  },
  "language_info": {
   "codemirror_mode": {
    "name": "ipython",
    "version": 3
   },
   "file_extension": ".py",
   "mimetype": "text/x-python",
   "name": "python",
   "nbconvert_exporter": "python",
   "pygments_lexer": "ipython3",
   "version": "3.8.5"
  }
 },
 "nbformat": 4,
 "nbformat_minor": 1
}
