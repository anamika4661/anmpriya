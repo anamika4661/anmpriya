{
 "cells": [
  {
   "cell_type": "code",
   "execution_count": 3,
   "metadata": {},
   "outputs": [
    {
     "name": "stdout",
     "output_type": "stream",
     "text": [
      "Hello\n"
     ]
    }
   ],
   "source": [
    "class Python:\n",
    "    print(\"Hello\")\n",
    "obj = Python() "
   ]
  },
  {
   "cell_type": "code",
   "execution_count": 9,
   "metadata": {},
   "outputs": [
    {
     "name": "stdout",
     "output_type": "stream",
     "text": [
      "Hello\n"
     ]
    }
   ],
   "source": [
    "class Python:\n",
    "    def hello(self):\n",
    "        print(\"Hello\")\n",
    "obj = Python() \n",
    "obj.hello()"
   ]
  },
  {
   "cell_type": "code",
   "execution_count": 10,
   "metadata": {},
   "outputs": [
    {
     "name": "stdout",
     "output_type": "stream",
     "text": [
      "hello world\n"
     ]
    }
   ],
   "source": [
    "class Python:\n",
    "    def hello(self,x):\n",
    "        print(x)        \n",
    "obj = Python() \n",
    "obj.hello(\"hello world\")"
   ]
  },
  {
   "cell_type": "code",
   "execution_count": 12,
   "metadata": {},
   "outputs": [
    {
     "name": "stdout",
     "output_type": "stream",
     "text": [
      "6\n",
      "24\n"
     ]
    }
   ],
   "source": [
    "class cal:\n",
    "    def area(self,l,b):\n",
    "        a = l*b\n",
    "        return a\n",
    "    def volume(self,l,b,h):\n",
    "        v = l*b*h\n",
    "        return v\n",
    "obj = cal()\n",
    "print(obj.area(2,3))\n",
    "print(obj.volume(2,3,4))\n",
    "    "
   ]
  },
  {
   "cell_type": "code",
   "execution_count": 16,
   "metadata": {},
   "outputs": [
    {
     "name": "stdout",
     "output_type": "stream",
     "text": [
      "400\n",
      "1200\n",
      "200\n"
     ]
    }
   ],
   "source": [
    "#_init_()\n",
    "class cal:\n",
    "    def __init__(self,l,b,h):\n",
    "        self.l =l\n",
    "        self.b = b\n",
    "        self.h = h\n",
    "    def area(self):\n",
    "        a = self.l*self.b\n",
    "        return a\n",
    "    def volume(self):\n",
    "        v = self.l*self.b*self.h\n",
    "        return v\n",
    "obj = cal(200,2,3)\n",
    "print(obj.area())\n",
    "print(obj.volume())\n",
    "print(obj.l)"
   ]
  },
  {
   "cell_type": "code",
   "execution_count": 3,
   "metadata": {},
   "outputs": [
    {
     "name": "stdout",
     "output_type": "stream",
     "text": [
      "600\n",
      "3000\n",
      "300\n"
     ]
    }
   ],
   "source": [
    "class cal:\n",
    "    def __init__(self,l,b):\n",
    "        self.l =l  # public properties\n",
    "        self.b = b\n",
    "    def area(self):\n",
    "        a = self.l*self.b\n",
    "        return a\n",
    "    def volume(self,h):\n",
    "        v = self.l*self.b*h\n",
    "        return v\n",
    "obj = cal(300,2)\n",
    "print(obj.area())\n",
    "print(obj.volume(5))\n",
    "print(obj.l)"
   ]
  },
  {
   "cell_type": "code",
   "execution_count": 4,
   "metadata": {},
   "outputs": [
    {
     "name": "stdout",
     "output_type": "stream",
     "text": [
      "600\n",
      "3000\n",
      "300\n"
     ]
    }
   ],
   "source": [
    "class area:\n",
    "    def __init__(self,l,b):\n",
    "        self.l =l  # public properties\n",
    "        self.b = b\n",
    "    def area(self):\n",
    "        a = self.l*self.b\n",
    "        return a\n",
    "class volume:\n",
    "    def __init__(self,l,b,h):\n",
    "        self.l =l  # public properties\n",
    "        self.b = b\n",
    "        self.h = h\n",
    "    def volume(self):\n",
    "        v = self.l*self.b*self.h\n",
    "        return v\n",
    "obj1 = area(300,2)\n",
    "obj2 = volume(300,2,5)\n",
    "print(obj1.area())\n",
    "print(obj2.volume())\n",
    "print(obj1.l)"
   ]
  },
  {
   "cell_type": "code",
   "execution_count": 5,
   "metadata": {},
   "outputs": [
    {
     "name": "stdout",
     "output_type": "stream",
     "text": [
      "hello \n",
      "hello \n",
      "hello \n"
     ]
    }
   ],
   "source": [
    "class hello:\n",
    "    def __init__(self,x):\n",
    "        self.hi = x\n",
    "    \n",
    "    def __str__(self):\n",
    "        return self.hi\n",
    "obj = hello(\"hello \")\n",
    "print(obj)\n",
    "print(obj.__str__())\n",
    "print(str(obj))"
   ]
  },
  {
   "cell_type": "code",
   "execution_count": 6,
   "metadata": {},
   "outputs": [
    {
     "name": "stdout",
     "output_type": "stream",
     "text": [
      "['hello ', 'world']\n"
     ]
    }
   ],
   "source": [
    "class hello:\n",
    "    def __init__(self,x,y):\n",
    "        self.x = x\n",
    "        self.y = y\n",
    "    \n",
    "    def __repr__(self):\n",
    "        return [self.x,self.y]\n",
    "obj = hello(\"hello \",\"world\")\n",
    "print(obj.__repr__())"
   ]
  },
  {
   "cell_type": "code",
   "execution_count": 4,
   "metadata": {},
   "outputs": [
    {
     "data": {
      "text/plain": [
       "<bound method test.hr of <__main__.test object at 0x000001C6308B0130>>"
      ]
     },
     "execution_count": 4,
     "metadata": {},
     "output_type": "execute_result"
    }
   ],
   "source": [
    "class profile:\n",
    "    def __init__(self,name,add):\n",
    "        self.name = name\n",
    "        self.add = add\n",
    "class test(profile):    \n",
    "    def hr(self):\n",
    "        print(f\"hello name is,{name}.from {add}.\")\n",
    "obj = test(\"ram\",\"katuwal\")\n",
    "obj.hr"
   ]
  },
  {
   "cell_type": "code",
   "execution_count": 1,
   "metadata": {},
   "outputs": [
    {
     "ename": "ModuleNotFoundError",
     "evalue": "No module named 'pyplot'",
     "output_type": "error",
     "traceback": [
      "\u001b[1;31m---------------------------------------------------------------------------\u001b[0m",
      "\u001b[1;31mModuleNotFoundError\u001b[0m                       Traceback (most recent call last)",
      "\u001b[1;32m<ipython-input-1-b857be8ccb09>\u001b[0m in \u001b[0;36m<module>\u001b[1;34m\u001b[0m\n\u001b[1;32m----> 1\u001b[1;33m \u001b[1;32mimport\u001b[0m \u001b[0mpyplot\u001b[0m \u001b[1;32mas\u001b[0m \u001b[0mplt\u001b[0m\u001b[1;33m\u001b[0m\u001b[1;33m\u001b[0m\u001b[0m\n\u001b[0m\u001b[0;32m      2\u001b[0m \u001b[0mplt\u001b[0m\u001b[1;33m.\u001b[0m\u001b[0mplot\u001b[0m\u001b[1;33m(\u001b[0m\u001b[1;33m[\u001b[0m\u001b[1;36m1\u001b[0m\u001b[1;33m,\u001b[0m\u001b[1;36m2\u001b[0m\u001b[1;33m,\u001b[0m\u001b[1;36m3\u001b[0m\u001b[1;33m]\u001b[0m\u001b[1;33m,\u001b[0m\u001b[1;33m[\u001b[0m\u001b[1;36m4\u001b[0m\u001b[1;33m,\u001b[0m\u001b[1;36m5\u001b[0m\u001b[1;33m,\u001b[0m\u001b[1;36m1\u001b[0m\u001b[1;33m]\u001b[0m\u001b[1;33m)\u001b[0m\u001b[1;33m\u001b[0m\u001b[1;33m\u001b[0m\u001b[0m\n\u001b[0;32m      3\u001b[0m \u001b[0mplt\u001b[0m\u001b[1;33m.\u001b[0m\u001b[0mshow\u001b[0m\u001b[1;33m(\u001b[0m\u001b[1;33m)\u001b[0m\u001b[1;33m\u001b[0m\u001b[1;33m\u001b[0m\u001b[0m\n",
      "\u001b[1;31mModuleNotFoundError\u001b[0m: No module named 'pyplot'"
     ]
    }
   ],
   "source": [
    "import pyplot as plt\n",
    "plt.plot([1,2,3],[4,5,1])\n",
    "plt.show()\n"
   ]
  },
  {
   "cell_type": "code",
   "execution_count": null,
   "metadata": {},
   "outputs": [],
   "source": []
  }
 ],
 "metadata": {
  "kernelspec": {
   "display_name": "Python 3",
   "language": "python",
   "name": "python3"
  },
  "language_info": {
   "codemirror_mode": {
    "name": "ipython",
    "version": 3
   },
   "file_extension": ".py",
   "mimetype": "text/x-python",
   "name": "python",
   "nbconvert_exporter": "python",
   "pygments_lexer": "ipython3",
   "version": "3.8.5"
  }
 },
 "nbformat": 4,
 "nbformat_minor": 4
}
