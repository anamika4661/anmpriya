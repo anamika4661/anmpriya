{
 "cells": [
  {
   "cell_type": "code",
   "execution_count": 4,
   "metadata": {},
   "outputs": [
    {
     "name": "stdout",
     "output_type": "stream",
     "text": [
      "Hello World\n"
     ]
    }
   ],
   "source": [
    "class Python:             #class\n",
    "    print(\"Hello World\")\n",
    "    \n",
    "obj = Python()  #object"
   ]
  },
  {
   "cell_type": "code",
   "execution_count": 9,
   "metadata": {},
   "outputs": [
    {
     "name": "stdout",
     "output_type": "stream",
     "text": [
      "Hello World\n"
     ]
    }
   ],
   "source": [
    "class Python:     #class\n",
    "    def hello(aayush):\n",
    "        print(\"Hello World\")\n",
    "    \n",
    "obj = Python()  #object\n",
    "obj.hello()"
   ]
  },
  {
   "cell_type": "code",
   "execution_count": 11,
   "metadata": {},
   "outputs": [
    {
     "name": "stdout",
     "output_type": "stream",
     "text": [
      "Hello World\n"
     ]
    }
   ],
   "source": [
    "class Python:     #class\n",
    "    def hello(x,self):\n",
    "        print(self)\n",
    "    \n",
    "obj = Python()  #object\n",
    "obj.hello(\"Hello World\")"
   ]
  },
  {
   "cell_type": "code",
   "execution_count": 13,
   "metadata": {},
   "outputs": [
    {
     "name": "stdout",
     "output_type": "stream",
     "text": [
      "Enter l = 23\n",
      "Enter b = 43\n",
      "Enter h = 4\n",
      "989\n",
      "3956\n"
     ]
    }
   ],
   "source": [
    "class Cal:\n",
    "    def area(self,l,b):\n",
    "        a = l*b\n",
    "        return a\n",
    "    def volume(self,l,b,h):\n",
    "        v = l*b*h\n",
    "        return v\n",
    "\n",
    "obj = Cal()\n",
    "l= int(input(\"Enter l = \"))\n",
    "b= int(input(\"Enter b = \"))\n",
    "h= int(input(\"Enter h = \"))\n",
    "print(obj.area(l,b))\n",
    "print(obj.volume(l,b,h))"
   ]
  },
  {
   "cell_type": "code",
   "execution_count": 14,
   "metadata": {},
   "outputs": [
    {
     "name": "stdout",
     "output_type": "stream",
     "text": [
      "Hello World\n"
     ]
    }
   ],
   "source": [
    "# __init__()\n",
    "class Hello:\n",
    "    def __init__(self,x):\n",
    "        self.hi = x\n",
    "        \n",
    "    def hello(self):\n",
    "        print(self.hi)\n",
    "        \n",
    "obj = Hello(\"Hello World\")\n",
    "obj.hello()"
   ]
  },
  {
   "cell_type": "code",
   "execution_count": 19,
   "metadata": {},
   "outputs": [
    {
     "name": "stdout",
     "output_type": "stream",
     "text": [
      "Enter l = 100\n",
      "Enter b = 2\n",
      "Enter h = 3\n",
      "The area is =  200\n",
      "The volume is =  600\n",
      "100\n"
     ]
    }
   ],
   "source": [
    "class Cal:\n",
    "    def __init__(self,l,b,h):\n",
    "        self.l = l\n",
    "        self.b = b\n",
    "        self.h = h\n",
    "    def area(this):\n",
    "        a = this.l*this.b\n",
    "        return a\n",
    "    def volume(self):\n",
    "        v = self.l*self.b*self.h\n",
    "        return v\n",
    "l= int(input(\"Enter l = \"))\n",
    "b= int(input(\"Enter b = \"))\n",
    "h= int(input(\"Enter h = \"))\n",
    "obj = Cal(l,b,h)\n",
    "print(\"The area is = \",obj.area())\n",
    "print(\"The volume is = \",obj.volume())\n",
    "print(obj.l)"
   ]
  },
  {
   "cell_type": "code",
   "execution_count": null,
   "metadata": {},
   "outputs": [],
   "source": [
    "class Cal:\n",
    "    def __init__(self,l,b):\n",
    "        self.l = l\n",
    "        self.b = b\n",
    "    def area(this):\n",
    "        a = this.l*this.b\n",
    "        return a\n",
    "    def volume(self,h):\n",
    "        v = self.l*self.b*h\n",
    "        return v\n",
    "l= int(input(\"Enter l = \"))\n",
    "b= int(input(\"Enter b = \"))\n",
    "h= int(input(\"Enter h = \"))\n",
    "obj = Cal(l,b)\n",
    "print(\"The area is = \",obj.area())\n",
    "print(\"The volume is = \",obj.volume(h))\n",
    "print(obj.l)"
   ]
  },
  {
   "cell_type": "code",
   "execution_count": 1,
   "metadata": {},
   "outputs": [
    {
     "name": "stdout",
     "output_type": "stream",
     "text": [
      "Enter l = 100\n",
      "Enter b = 3\n",
      "Enter h = 4\n",
      "The area is =  300\n",
      "The volume is =  1200\n",
      "100\n"
     ]
    }
   ],
   "source": [
    "class Area:\n",
    "    def __init__(self,l,b):\n",
    "        self.l = l\n",
    "        self.b = b\n",
    "    def area(this):\n",
    "        a = this.l*this.b\n",
    "        return a\n",
    "class Volume:\n",
    "    def __init__(self,l,b,h):\n",
    "        self.l = l\n",
    "        self.b = b\n",
    "        self.h = h\n",
    "    def volume(self):\n",
    "        v = self.l*self.b*self.h\n",
    "        return v\n",
    "l= int(input(\"Enter l = \"))\n",
    "b= int(input(\"Enter b = \"))\n",
    "h= int(input(\"Enter h = \"))\n",
    "obj1 = Area(l,b)\n",
    "obj2 = Volume(l,b,h)\n",
    "print(\"The area is = \",obj1.area())\n",
    "print(\"The volume is = \",obj2.volume())\n",
    "print(obj1.l)"
   ]
  },
  {
   "cell_type": "code",
   "execution_count": 4,
   "metadata": {},
   "outputs": [
    {
     "name": "stdout",
     "output_type": "stream",
     "text": [
      "Hello World\n",
      "Hello World\n",
      "Hello World\n"
     ]
    }
   ],
   "source": [
    "# __init__()\n",
    "class Hello:\n",
    "    def __init__(self,x):\n",
    "        self.hi = x\n",
    "        \n",
    "    def __str__(self):\n",
    "        return self.hi\n",
    "        \n",
    "obj = Hello(\"Hello World\")\n",
    "print(obj)\n",
    "print(obj.__str__())\n",
    "print(str(obj))"
   ]
  },
  {
   "cell_type": "code",
   "execution_count": 5,
   "metadata": {},
   "outputs": [
    {
     "name": "stdout",
     "output_type": "stream",
     "text": [
      "['Hello', 'World']\n"
     ]
    }
   ],
   "source": [
    "# __init__()\n",
    "class Hello:\n",
    "    def __init__(self,x,y):\n",
    "        self.x = x\n",
    "        self.y = y\n",
    "        \n",
    "    def __repr__(self):\n",
    "        return [self.x,self.y]\n",
    "        \n",
    "obj = Hello(\"Hello\", \"World\")\n",
    "\n",
    "print(obj.__repr__())\n"
   ]
  },
  {
   "cell_type": "code",
   "execution_count": null,
   "metadata": {},
   "outputs": [],
   "source": []
  }
 ],
 "metadata": {
  "kernelspec": {
   "display_name": "Python 3",
   "language": "python",
   "name": "python3"
  },
  "language_info": {
   "codemirror_mode": {
    "name": "ipython",
    "version": 3
   },
   "file_extension": ".py",
   "mimetype": "text/x-python",
   "name": "python",
   "nbconvert_exporter": "python",
   "pygments_lexer": "ipython3",
   "version": "3.7.1"
  }
 },
 "nbformat": 4,
 "nbformat_minor": 2
}
