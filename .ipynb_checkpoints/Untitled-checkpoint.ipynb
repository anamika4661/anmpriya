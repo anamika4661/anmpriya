{
 "cells": [
  {
   "cell_type": "code",
   "execution_count": null,
   "metadata": {},
   "outputs": [],
   "source": [
    "def area(l,b):\n",
    "    a = l*b\n",
    "    return a\n",
    "\n",
    "def volume(l,b,h):\n",
    "    v = area(l,b)*h    \n",
    "    return v\n",
    "\n",
    "l = int(input(\"Enter l = \")) #local variable\n",
    "b = int(input(\"Enter b = \")) #local variable\n",
    "h = int(input(\"Enter h = \")) #local variable\n",
    "\n",
    "ar = area(l,b)\n",
    "vo = volume(l,b,h)\n",
    "print(\"area = \",ar)\n",
    "print(\"volume = \",vo)"
   ]
  },
  {
   "cell_type": "code",
   "execution_count": null,
   "metadata": {},
   "outputs": [],
   "source": [
    "def dml_ins(a,b,c,d,e):\n",
    "    a = b*c\n",
    "    d = e/c\n",
    "    return a+d\n",
    "a = 10\n",
    "b = 20\n",
    "c = 30\n",
    "d = 40\n",
    "e = 600\n",
    "t = dml_ins(a,b,c,d,e)\n",
    "print(\"hi\",t)"
   ]
  },
  {
   "cell_type": "code",
   "execution_count": null,
   "metadata": {},
   "outputs": [],
   "source": [
    "def hello():\n",
    "    print(\"Hello World\")\n",
    "    x= input(\"enter 'y' \")\n",
    "    if x == 'y':\n",
    "        hello()\n",
    "hello()\n"
   ]
  },
  {
   "cell_type": "code",
   "execution_count": null,
   "metadata": {},
   "outputs": [],
   "source": [
    "import math as m \n",
    "r = int(input(\"Enter the value of r = \"))\n",
    "a = m.pi*(m.pow(r,2))\n",
    "print(\"The are is = \",a)\n",
    "\n",
    "\n",
    "\n",
    "\n"
   ]
  },
  {
   "cell_type": "code",
   "execution_count": null,
   "metadata": {},
   "outputs": [],
   "source": [
    "import math as m\n",
    "a = m.pi/2\n",
    "m.sin(a)\n"
   ]
  },
  {
   "cell_type": "code",
   "execution_count": null,
   "metadata": {},
   "outputs": [],
   "source": [
    "import math as m\n",
    "b = 625\n",
    "m.pow(b,1/2)"
   ]
  },
  {
   "cell_type": "code",
   "execution_count": null,
   "metadata": {},
   "outputs": [],
   "source": [
    "a = 10\n",
    "b = 20\n",
    "\n",
    "a != b"
   ]
  },
  {
   "cell_type": "code",
   "execution_count": null,
   "metadata": {},
   "outputs": [],
   "source": [
    "\n",
    "\n",
    "if a<b:\n",
    "    print(\"a is greater\")\n",
    "elif b<a:\n",
    "    print(\"a is greater\")\n",
    "else:\n",
    "    print(\"Both are equal\")"
   ]
  },
  {
   "cell_type": "code",
   "execution_count": null,
   "metadata": {},
   "outputs": [],
   "source": [
    "a = int(inut(\"Enter a = \"))\n",
    "b = int(inut(\"Enter b = \"))\n",
    "c = int(inut(\"Enter c = \"))\n",
    "\n",
    "if a<b and c<b:\n",
    "    print(\"b is greater\")\n",
    "elif b<a and  c<a:\n",
    "    print(\"a is greater\")\n",
    "else:\n",
    "    print(\"Both are equal\")\n",
    "\n"
   ]
  },
  {
   "cell_type": "code",
   "execution_count": null,
   "metadata": {},
   "outputs": [],
   "source": [
    "\n",
    "def add(a,b):\n",
    "    return(a+b)\n",
    "\n",
    "def cal():\n",
    "    a = int(input(\"Enter a = \"))\n",
    "    b = int(input(\"Enter b = \"))\n",
    "    o = input(\"Enter +-*/\")\n",
    "    if o == '+':\n",
    "        print(add(a,b))\n",
    "    elif o == '-':\n",
    "        print(a-b)\n",
    "    elif o == '*':\n",
    "        print(a*b)\n",
    "    elif o == '/':\n",
    "        if b==0:\n",
    "            print(\"The value of b can not be Zero\")\n",
    "        else:\n",
    "            print(a/b)\n",
    "    else: \n",
    "        print(\"invalid operator\")\n",
    "\n",
    "cal()\n",
    "\n"
   ]
  },
  {
   "cell_type": "code",
   "execution_count": null,
   "metadata": {},
   "outputs": [],
   "source": [
    "for i in range(5):\n",
    "    print(i,\"hello world\")\n",
    "            "
   ]
  },
  {
   "cell_type": "code",
   "execution_count": null,
   "metadata": {},
   "outputs": [],
   "source": [
    "for i in range(1,6+1):\n",
    "    print(i,\"hello world\")"
   ]
  },
  {
   "cell_type": "code",
   "execution_count": null,
   "metadata": {},
   "outputs": [],
   "source": [
    "for i in range(1,6+1,2):\n",
    "    print(i,\"hello world\")"
   ]
  },
  {
   "cell_type": "code",
   "execution_count": null,
   "metadata": {},
   "outputs": [],
   "source": [
    "s = 0\n",
    "n = int(input(\"Enter n = \"))\n",
    "for i in range(n):\n",
    "    t = int(input(\"Enter x = \"))\n",
    "    print(\"you entered = \", t)\n",
    "    s= s+t\n",
    "print(\"the sum is \",s)\n"
   ]
  },
  {
   "cell_type": "code",
   "execution_count": null,
   "metadata": {},
   "outputs": [],
   "source": [
    "# 4! = 1*2*3*4\n",
    "fact = 1\n",
    "n = int(input(\"Enter value of fact \"))\n",
    "for i in range(1,n):\n",
    "    fact = fact*i\n",
    "    print(\"factorial of \",n,\" is \",fact)\n",
    "print(fact)"
   ]
  },
  {
   "cell_type": "code",
   "execution_count": null,
   "metadata": {},
   "outputs": [],
   "source": [
    "a = \"Python\"\n",
    "for i in a:\n",
    "    #print(a)\n",
    "    print(i)\n",
    "for i in range(5):\n",
    "    #print(a)\n",
    "    print(i)\n",
    "    "
   ]
  },
  {
   "cell_type": "code",
   "execution_count": null,
   "metadata": {},
   "outputs": [],
   "source": [
    "a = 0 \n",
    "while a<5:\n",
    "    print(a,\"hello world\")\n",
    "    a = a+1"
   ]
  },
  {
   "cell_type": "code",
   "execution_count": null,
   "metadata": {},
   "outputs": [],
   "source": [
    "a = 1 \n",
    "while a<=5:\n",
    "    print(a,\"hello world\")\n",
    "    a = a+2"
   ]
  },
  {
   "cell_type": "code",
   "execution_count": null,
   "metadata": {},
   "outputs": [],
   "source": [
    "s= 0\n",
    "i = 0\n",
    "n = int(input(\"Enter n = \"))\n",
    "av = n\n",
    "while i<n:\n",
    "    x = int(input(\"Enter x = \"))\n",
    "    s = s+x\n",
    "    n = n-1\n",
    "print(\"The sum is = \",s)\n",
    "print(\"The average is = \",s/av)"
   ]
  },
  {
   "cell_type": "code",
   "execution_count": null,
   "metadata": {},
   "outputs": [],
   "source": [
    "a = \"Python\"\n",
    "n = len(a)\n",
    "print(a[5])\n",
    "print(a[4])\n",
    "print(a[3])\n",
    "print(a[2])\n",
    "print(a[1])\n",
    "print(a[0])\n",
    "print(n)\n",
    "for i in range(n-1,0,-1):\n",
    "    if i<n :\n",
    "        print(\"test\",a[i])"
   ]
  },
  {
   "cell_type": "code",
   "execution_count": null,
   "metadata": {},
   "outputs": [],
   "source": [
    "a = \"Python\"\n",
    "n = len(a)\n",
    "while i<= n-1:\n",
    "    print(\"test\",a[i])\n",
    "    i = i+1"
   ]
  },
  {
   "cell_type": "code",
   "execution_count": null,
   "metadata": {},
   "outputs": [],
   "source": [
    "fr = int(input(\"number to be checked from: \"))\n",
    "tr = int(input(\"number to be checked upto: \"))\n",
    "#n = int(input(\"number of times\"))\n",
    "def checkcomprime(n):\n",
    "    i=1\n",
    "    while i<=n:\n",
    "        i= i+1\n",
    "        #print(\"ttttt :\",i,\"\",n)\n",
    "        if i>=2 and i<n:\n",
    "            if (n%i) == 0:\n",
    "                print(n, \"is cmposite\") \n",
    "                break\n",
    "        else:\n",
    "            print(n, \"is prime\") \n",
    "            break          \n",
    "for i in range(fr,tr,1):\n",
    "    #print(fr,tr)\n",
    "    checkcomprime(fr)\n",
    "    fr=fr+1\n",
    "#checkcomprime(fr)    \n",
    "\n",
    "\n",
    "    \n",
    "    "
   ]
  },
  {
   "cell_type": "code",
   "execution_count": null,
   "metadata": {},
   "outputs": [],
   "source": [
    "for i in range (1,11):\n",
    "    if (i%2 == 0):\n",
    "        continue\n",
    "    print(i)"
   ]
  },
  {
   "cell_type": "markdown",
   "metadata": {},
   "source": []
  },
  {
   "cell_type": "code",
   "execution_count": null,
   "metadata": {},
   "outputs": [],
   "source": [
    "for i in range (1,51):\n",
    "    if (i%5 != 0):\n",
    "        continue\n",
    "    print(i)"
   ]
  },
  {
   "cell_type": "code",
   "execution_count": null,
   "metadata": {},
   "outputs": [],
   "source": [
    "a = [\"Apple\",\"Ball\",\"Cat\",\"Dog\",\"pig\",\"Crow\",\"Fish\"]\n",
    "for i in a:\n",
    "    if i == \"pig\":        \n",
    "        continue\n",
    "    print(i)    \n"
   ]
  },
  {
   "cell_type": "code",
   "execution_count": null,
   "metadata": {},
   "outputs": [],
   "source": [
    "a = [\"Apple\",\"Ball\",\"Cat\",\"Dog\",\"pig\",\"Crow\",\"Fish\"]\n",
    "for i in a:\n",
    "    if i == \"pig\":        \n",
    "        break\n",
    "    print(i)  "
   ]
  },
  {
   "cell_type": "code",
   "execution_count": null,
   "metadata": {},
   "outputs": [],
   "source": [
    "def cal():\n",
    "    pass # It is like null\n",
    "cal()"
   ]
  },
  {
   "cell_type": "code",
   "execution_count": null,
   "metadata": {},
   "outputs": [],
   "source": [
    "a = 10\n",
    "b= 12\n",
    "if a<b:\n",
    "    pass\n"
   ]
  },
  {
   "cell_type": "code",
   "execution_count": null,
   "metadata": {},
   "outputs": [],
   "source": [
    "for i in range(1,5):\n",
    "    for j in range(1,3):\n",
    "        print(i,j)\n",
    "    #print(i,j)"
   ]
  },
  {
   "cell_type": "code",
   "execution_count": null,
   "metadata": {},
   "outputs": [],
   "source": [
    "for i in range(1,5):\n",
    "    n= i\n",
    "    print(n)\n",
    "    for m in range(1,5):\n",
    "        pass\n",
    "        for j in range(1,5):\n",
    "           ## if (i==m and m==j):\n",
    "             #   break\n",
    "           # else:\n",
    "              pass"
   ]
  },
  {
   "cell_type": "code",
   "execution_count": null,
   "metadata": {},
   "outputs": [],
   "source": [
    "for i in range(1,11):    \n",
    "    for j in range(1,11):\n",
    "        print(i*j,end\"-\")\n",
    "       "
   ]
  },
  {
   "cell_type": "code",
   "execution_count": null,
   "metadata": {},
   "outputs": [],
   "source": [
    "a = \"Apple\"\n",
    "print(type(a))\n"
   ]
  },
  {
   "cell_type": "code",
   "execution_count": null,
   "metadata": {},
   "outputs": [],
   "source": [
    "a[1]"
   ]
  },
  {
   "cell_type": "code",
   "execution_count": 7,
   "metadata": {},
   "outputs": [
    {
     "data": {
      "text/plain": [
       "[]"
      ]
     },
     "execution_count": 7,
     "metadata": {},
     "output_type": "execute_result"
    }
   ],
   "source": [
    "a=['Python']\n",
    "a[5::20]"
   ]
  },
  {
   "cell_type": "code",
   "execution_count": 8,
   "metadata": {},
   "outputs": [
    {
     "data": {
      "text/plain": [
       "['Devdaasqweed']"
      ]
     },
     "execution_count": 8,
     "metadata": {},
     "output_type": "execute_result"
    }
   ],
   "source": [
    "a=['Devdaasqweed']\n",
    "a[:1:80]"
   ]
  },
  {
   "cell_type": "code",
   "execution_count": null,
   "metadata": {},
   "outputs": [],
   "source": [
    "a=\"Hello\"\n",
    "b=\"Madam\"\n",
    "print(a+b)"
   ]
  },
  {
   "cell_type": "code",
   "execution_count": null,
   "metadata": {},
   "outputs": [],
   "source": [
    "a=input(\"Enter a= \")\n",
    "b=input(\"Enter b=\")\n",
    "print(a+b)\n"
   ]
  },
  {
   "cell_type": "code",
   "execution_count": null,
   "metadata": {},
   "outputs": [],
   "source": [
    "s= \"\"\n",
    "n= int(input(\"Enter how many rows = \"))\n",
    "for i in range(n):\n",
    "    name=input(\"Enter name =\")\n",
    "    phone = int(input(\"Enter phone =\"))\n",
    "    info = f\"{name}---{phone}\\n\"\n",
    "    s = s+info\n",
    "    \n",
    "print(\"the info are \\n\",s)\n",
    "    \n",
    "\n"
   ]
  },
  {
   "cell_type": "code",
   "execution_count": null,
   "metadata": {},
   "outputs": [],
   "source": []
  },
  {
   "cell_type": "code",
   "execution_count": null,
   "metadata": {},
   "outputs": [],
   "source": []
  },
  {
   "cell_type": "code",
   "execution_count": null,
   "metadata": {},
   "outputs": [],
   "source": []
  },
  {
   "cell_type": "code",
   "execution_count": null,
   "metadata": {},
   "outputs": [],
   "source": []
  }
 ],
 "metadata": {
  "kernelspec": {
   "display_name": "Python 3",
   "language": "python",
   "name": "python3"
  }
 },
 "nbformat": 4,
 "nbformat_minor": 4
}
